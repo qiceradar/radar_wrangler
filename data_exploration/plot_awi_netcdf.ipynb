{
 "cells": [
  {
   "cell_type": "code",
   "execution_count": 1,
   "id": "a2cac990-f973-4351-a3ea-401855b2707a",
   "metadata": {},
   "outputs": [],
   "source": [
    "# I downloaded a one-off file at Olaf's request to comment on their format\n",
    "filename = \"/Users/lindzey/Downloads/VHF_20191201_082710_fkpsHH10us_combine.nc\""
   ]
  },
  {
   "cell_type": "code",
   "execution_count": 2,
   "id": "2f5ba7b8-795d-46ad-81e2-7d93d2eb78ea",
   "metadata": {},
   "outputs": [],
   "source": [
    "import netCDF4 as nc"
   ]
  },
  {
   "cell_type": "code",
   "execution_count": 3,
   "id": "b6490e15-4ba7-4321-8864-a5b81cd64827",
   "metadata": {},
   "outputs": [],
   "source": [
    "data = nc.Dataset(filename, 'r')"
   ]
  },
  {
   "cell_type": "code",
   "execution_count": 4,
   "id": "cba3071d-db3b-460c-8f78-0517bdfb9583",
   "metadata": {},
   "outputs": [
    {
     "data": {
      "text/plain": [
       "['SOURCE',\n",
       " 'TIME_OF_CREATION',\n",
       " 'N_RECORDS',\n",
       " 'TIME_SHIFT',\n",
       " 'YEAR',\n",
       " 'MONTH',\n",
       " 'DAY',\n",
       " 'PROFILE',\n",
       " 'MODE',\n",
       " 'ORIG_WINDOW',\n",
       " 'ORIG_SAMPLES',\n",
       " 'WINDOW_SIZE',\n",
       " 'SAMPLES',\n",
       " 'START_TIME',\n",
       " 'STOP_TIME']"
      ]
     },
     "execution_count": 4,
     "metadata": {},
     "output_type": "execute_result"
    }
   ],
   "source": [
    "data.ncattrs()"
   ]
  },
  {
   "cell_type": "code",
   "execution_count": 5,
   "id": "6e104431-bfb1-49b8-9aa2-6f82c06a34fd",
   "metadata": {},
   "outputs": [
    {
     "data": {
      "text/plain": [
       "dict_keys(['TIME', 'VELOCITY', 'DISTANCE', 'SPACING', 'LATITUDE', 'LONGITUDE', 'ALTITUDE', 'RANGE', 'ELEVATION', 'ROLL', 'PITCH', 'THDG', 'YAW', 'VZZ', 'WD', 'WAVEFORM', 'START_BIN'])"
      ]
     },
     "execution_count": 5,
     "metadata": {},
     "output_type": "execute_result"
    }
   ],
   "source": [
    "data.variables.keys()"
   ]
  },
  {
   "cell_type": "code",
   "execution_count": 6,
   "id": "3251bc36-0155-486b-a5b5-ea15ddb9c2f2",
   "metadata": {},
   "outputs": [
    {
     "data": {
      "text/plain": [
       "30558.973"
      ]
     },
     "execution_count": 6,
     "metadata": {},
     "output_type": "execute_result"
    }
   ],
   "source": [
    "data.START_TIME"
   ]
  },
  {
   "cell_type": "code",
   "execution_count": null,
   "id": "a738f772-1e1d-4002-967d-7f942a607147",
   "metadata": {},
   "outputs": [],
   "source": []
  }
 ],
 "metadata": {
  "kernelspec": {
   "display_name": "Python 3 (ipykernel)",
   "language": "python",
   "name": "python3"
  },
  "language_info": {
   "codemirror_mode": {
    "name": "ipython",
    "version": 3
   },
   "file_extension": ".py",
   "mimetype": "text/x-python",
   "name": "python",
   "nbconvert_exporter": "python",
   "pygments_lexer": "ipython3",
   "version": "3.9.6"
  }
 },
 "nbformat": 4,
 "nbformat_minor": 5
}
