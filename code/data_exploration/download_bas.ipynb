{
 "cells": [
  {
   "cell_type": "code",
   "execution_count": 1,
   "metadata": {},
   "outputs": [],
   "source": [
    "import csv\n",
    "\n",
    "import os\n",
    "import os.path\n",
    "import pathlib\n",
    "import subprocess\n",
    "import tempfile"
   ]
  },
  {
   "cell_type": "code",
   "execution_count": 3,
   "metadata": {},
   "outputs": [],
   "source": [
    "import requests  # For downloading index page\n",
    "from bs4 import BeautifulSoup   # For parsing html and extracting the links"
   ]
  },
  {
   "cell_type": "code",
   "execution_count": 2,
   "metadata": {},
   "outputs": [],
   "source": [
    "# This will be a configuration parameter for the eventual plugin\n",
    "radargram_dir = \"/Volumes/QIceRadar1\""
   ]
  },
  {
   "cell_type": "code",
   "execution_count": null,
   "metadata": {},
   "outputs": [],
   "source": [
    "# Hack to be able to debug plotting without an external drive\n",
    "radargram_dir = \"/Users/lindzey/Documents/QIceRadar/data_radargrams\""
   ]
  },
  {
   "cell_type": "markdown",
   "metadata": {},
   "source": [
    "## Data Download\n",
    "\n",
    "BAS has an excellent online interface for viewing its available data: \n",
    "https://www.bas.ac.uk/project/nagdp/\n",
    "\n",
    "Be sure to cite Fremand et al. 2022 (https://doi.org/10.5194/essd-14-3379-2022) when talking about releasing data.\n",
    "\n",
    "This provides a human-usable interface for downloading the data. But, we want to be able to automate it! \n",
    "The portal shows quicklook images corresponding to chunks of lines, though the underlying data files appear to be one-per-flight.\n"
   ]
  },
  {
   "cell_type": "code",
   "execution_count": 3,
   "metadata": {},
   "outputs": [],
   "source": [
    "institution = \"BAS\"\n",
    "campaign = \"AGAP\"\n",
    "region = \"ANTARCTIC\"\n",
    "dest_dir = f\"{radargram_dir}/{region}/{institution}/{campaign}\"\n",
    "\n",
    "url = \"https://ramadda.data.bas.ac.uk:443/repository/entry/get/AGAP_A19.nc?entryid=synth%3Aa1abf071-85fc-4118-ad37-7f186b72c847%3AL25ldGNkZi9BR0FQX0ExOS5uYw%3D%3D\"\n",
    "dest_filename = \"AGAP_A19.nc\"\n",
    "dest_filepath = \"{}/{}\".format(dest_dir, dest_filename)\n",
    "wget_cmd = [\"wget\", \"--no-clobber\", \"--quiet\", \"--output-document\", \"/Users/lindzey/Downloads/foo\", url]\n",
    "\n"
   ]
  },
  {
   "cell_type": "code",
   "execution_count": 4,
   "metadata": {},
   "outputs": [
    {
     "data": {
      "text/plain": [
       "0"
      ]
     },
     "execution_count": 4,
     "metadata": {},
     "output_type": "execute_result"
    }
   ],
   "source": [
    "subprocess.check_call(wget_cmd)"
   ]
  },
  {
   "cell_type": "code",
   "execution_count": 14,
   "metadata": {},
   "outputs": [],
   "source": [
    "# Trying to find the list of granules without manually downloading an index\n",
    "# So far, no luck -- I can't figure out how to get BeautifulSoup\n",
    "# to expand the \"netcdf\" drop down and see links below it.\n",
    "agap_doi = \"a1abf071-85fc-4118-ad37-7f186b72c847\"\n",
    "doi = f\"https://doi.org/10.5285/{agap_doi}\"\n",
    "data_link = \"https://ramadda.data.bas.ac.uk/repository/entry/show?entryid=synth:a1abf071-85fc-4118-ad37-7f186b72c847:L25ldGNkZg==\"\n",
    "# data_link = 'https://ramadda.data.bas.ac.uk/repository/entry/show?entryid=' + doi.split('/')[-1]\n",
    "reqs = requests.get(data_link)\n",
    "soup = BeautifulSoup(reqs.text, 'html.parser')\n",
    "\n",
    "base_url = 'https://ramadda.data.bas.ac.uk'\n",
    "prefix = '/repository/entry/show/'\n",
    "\n",
    "all_urls = [link.get('href') for link in soup.find_all('a')]\n",
    "download_urls = [base_url + url for url in all_urls if url is not None and url.startswith(prefix)]\n",
    "filenames = [url.strip(base_url+prefix).split('?')[0] for url in download_urls]\n"
   ]
  },
  {
   "cell_type": "code",
   "execution_count": 15,
   "metadata": {},
   "outputs": [
    {
     "data": {
      "text/plain": [
       "['/repository',\n",
       " None,\n",
       " '#',\n",
       " 'https://eds.ukri.org/',\n",
       " 'https://www.bas.ac.uk',\n",
       " 'https://data.bas.ac.uk',\n",
       " '/repository/entry/show?entryid=61100714-1e32-44af-a237-0a517529bc49',\n",
       " '/repository/entry/show?entryid=451eb7be-b895-4535-aa48-b6411723b407',\n",
       " '/repository/entry/show?entryid=a1abf071-85fc-4118-ad37-7f186b72c847',\n",
       " None,\n",
       " '/repository/entry/show?entryid=synth%3Aa1abf071-85fc-4118-ad37-7f186b72c847%3AL25ldGNkZg%3D%3D',\n",
       " None,\n",
       " '/repository/search/type/group',\n",
       " '/repository/search/type/group?user_id=localuser&search.submit=true',\n",
       " 'https://www.bas.ac.uk/pdcfeedback',\n",
       " 'https://www.bas.ac.uk',\n",
       " 'https://www.ukri.org',\n",
       " 'http://www.nationalarchives.gov.uk/doc/open-government-licence',\n",
       " 'http://www.nationalarchives.gov.uk/doc/open-government-licence',\n",
       " 'https://www.bas.ac.uk/about-this-site/privacy-cookie-policy/',\n",
       " 'https://www.bas.ac.uk/about-this-site/copyright-statement/',\n",
       " 'https://www.bas.ac.uk/about-this-site/privacy-cookie-policy/']"
      ]
     },
     "execution_count": 15,
     "metadata": {},
     "output_type": "execute_result"
    }
   ],
   "source": [
    "all_urls"
   ]
  },
  {
   "cell_type": "markdown",
   "metadata": {},
   "source": [
    "In order to get the mapping from filename -> download link:\n",
    "* Go to the landing page. e.g.:\n",
    "  * AGAP: https://ramadda.data.bas.ac.uk/repository/entry/show?entryid=a1abf071-85fc-4118-ad37-7f186b72c847\n",
    "  * BBAS:\n",
    "  * ICEGRAV: \n",
    "  * POLARGAP: https://ramadda.data.bas.ac.uk/repository/entry/show?entryid=e8a29fa7-a245-4a04-8b56-098defa134b9\n",
    "* click the \"Folder\" dropdown next to \"netcdf\"\n",
    "* Select \"All Actions\"\n",
    "* Select \"CSV\"; download into data/BAS/netcdf_indices; renaming file to [survey].csv\n",
    "* Relevant columns are \"name\" and \"url\"\n",
    "\n",
    "Their filename convention is `[survey]_[flight].nc`; all of my references to survey name should match that one."
   ]
  },
  {
   "cell_type": "code",
   "execution_count": null,
   "metadata": {},
   "outputs": [],
   "source": [
    "root_dir = \"/Users/lindzey/Documents/QIceRadar\"\n",
    "index_dir = \"{}/radar_wrangler/data\".format(root_dir)\n",
    "\n",
    "institution = \"BAS\"\n",
    "\n",
    "bas_index_dir = \"{}/{}\".format(index_dir, institution)\n",
    "surveys = [ff for ff in os.listdir(\"{}/{}\".format(index_dir, institution)) if ff.endswith(\".csv\")]\n",
    "surveys.sort()\n",
    "print(surveys)\n",
    "\n",
    "for ff in surveys:\n",
    "    survey = ff.split('.')[0]\n",
    "    filepath = \"{}/{}\".format(bas_index_dir, ff)\n",
    "\n",
    "    with open(filepath) as csvfile:\n",
    "        csv_reader = csv.DictReader(csvfile)\n",
    "        for flight in csv_reader:\n",
    "            print(\"{} {}: {}\".format(survey, flight['name'], flight['url']))\n"
   ]
  },
  {
   "cell_type": "code",
   "execution_count": null,
   "metadata": {},
   "outputs": [],
   "source": []
  },
  {
   "cell_type": "code",
   "execution_count": null,
   "metadata": {},
   "outputs": [],
   "source": []
  },
  {
   "cell_type": "code",
   "execution_count": null,
   "metadata": {},
   "outputs": [],
   "source": []
  }
 ],
 "metadata": {
  "kernelspec": {
   "display_name": "Python 3 (ipykernel)",
   "language": "python",
   "name": "python3"
  },
  "language_info": {
   "codemirror_mode": {
    "name": "ipython",
    "version": 3
   },
   "file_extension": ".py",
   "mimetype": "text/x-python",
   "name": "python",
   "nbconvert_exporter": "python",
   "pygments_lexer": "ipython3",
   "version": "3.8.2"
  }
 },
 "nbformat": 4,
 "nbformat_minor": 4
}
