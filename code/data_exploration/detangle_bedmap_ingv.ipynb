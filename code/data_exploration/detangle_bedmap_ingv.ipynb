{
 "cells": [
  {
   "cell_type": "markdown",
   "id": "53105bdd-3634-4230-834c-d9b2321a2620",
   "metadata": {},
   "source": [
    "### The goal of this notebook is to identify which Bedmap1 points are covered by other datasets"
   ]
  },
  {
   "cell_type": "code",
   "execution_count": 2,
   "id": "159ac79e-4455-49e1-8eb7-adfa81351c9e",
   "metadata": {},
   "outputs": [],
   "source": [
    "%matplotlib inline\n",
    "import matplotlib \n",
    "import matplotlib.pyplot as plt\n",
    "\n",
    "import importlib\n",
    "import numpy as np\n",
    "import os\n",
    "import pathlib\n",
    "import shapefile as shp  # Requires the pyshp package; I ran `pip install pyshp`\n"
   ]
  },
  {
   "cell_type": "code",
   "execution_count": 3,
   "id": "06418d1f-d223-42c2-bc88-20ea4974ed7a",
   "metadata": {},
   "outputs": [],
   "source": [
    "import detangle_bedmap_utils\n",
    "importlib.reload(detangle_bedmap_utils)\n",
    "from detangle_bedmap_utils import (expand_range, find_closest_bedmap,\n",
    "                                   load_bedmap_ll, load_bedmap_xy, \n",
    "                                   subsample_tracks_uniform, \n",
    "                                  )"
   ]
  },
  {
   "cell_type": "code",
   "execution_count": 4,
   "id": "84ac2196-57a2-4d08-b765-1db59a6c3089",
   "metadata": {},
   "outputs": [],
   "source": [
    "gl_filepath = \"/Users/lindzey/Data/Quantarctica3/Glaciology/ASAID/ASAID_GroundingLine_Simplified.shp\"\n",
    "\n",
    "# If I do it this way, I can plot as points (but not lines!). This is easier than having to iterate through each segment.\n",
    "sf = shp.Reader(gl_filepath)\n",
    "gl_xx = []\n",
    "gl_yy = []\n",
    "for shape in sf.shapeRecords():\n",
    "    x = [i[0] for i in shape.shape.points[:]]\n",
    "    y = [i[1] for i in shape.shape.points[:]]\n",
    "    gl_xx.extend(x)\n",
    "    gl_yy.extend(y)"
   ]
  },
  {
   "cell_type": "code",
   "execution_count": 5,
   "id": "ddfb8148-3c34-47ac-9c16-1f20c0953e22",
   "metadata": {},
   "outputs": [],
   "source": [
    "bm1_path = \"/Users/lindzey/RadarData/ANTARCTIC/BEDMAP/BEDMAP1/BEDMAP1_1966-2000_AIR_BM1.csv\"\n",
    "bm1_lon, bm1_lat = load_bedmap_ll(bm1_path)\n",
    "bm1_xx, bm1_yy = load_bedmap_xy(bm1_path)"
   ]
  },
  {
   "cell_type": "markdown",
   "id": "62e2577f-03d2-4ac4-97f8-cb01ff74a953",
   "metadata": {},
   "source": [
    "## INGV\n",
    "\n",
    "It looks like part of the 1997_Talos-Dome survey is in BM1, but not all.\n",
    "(And the 1997_ITASE survey datapoints seem to have some exact overlap with part of 1997_Talos-Dome)\n",
    "\n",
    "However, zooming in more, it looks like the part that is in BM1 is a traverse route, and doesn't line up exactly with the positioning provided in the BM3 dataset. So, I'm not going to try to segment out those points yet.\n"
   ]
  },
  {
   "cell_type": "code",
   "execution_count": 6,
   "id": "f3d8a837-edd5-4f9c-bcfd-4c948e212b6c",
   "metadata": {},
   "outputs": [],
   "source": [
    "survey = \"INGV_1997_Talos-Dome_AIR_BM3\""
   ]
  },
  {
   "cell_type": "code",
   "execution_count": 8,
   "id": "277d3683-7b97-4891-bda9-b6360bcfc348",
   "metadata": {},
   "outputs": [],
   "source": [
    "survey_path = \"/Users/lindzey/RadarData/ANTARCTIC/BEDMAP/BEDMAP3/{}.csv\".format(survey)\n",
    "ingv_xx, ingv_yy = load_bedmap_xy(survey_path)\n",
    "ingv_bm1_idxs = find_closest_bedmap(ingv_xx, ingv_yy, bm1_xx, bm1_yy, decimation=50)    "
   ]
  },
  {
   "cell_type": "code",
   "execution_count": 10,
   "id": "9f10b8e6-b3f1-4059-80d8-232eb52029b8",
   "metadata": {},
   "outputs": [
    {
     "data": {
      "text/plain": [
       "<matplotlib.collections.LineCollection at 0x1300d8940>"
      ]
     },
     "execution_count": 10,
     "metadata": {},
     "output_type": "execute_result"
    },
    {
     "data": {
      "image/png": "[encoded data removed]",
      "text/plain": [
       "<Figure size 400x400 with 1 Axes>"
      ]
     },
     "metadata": {},
     "output_type": "display_data"
    }
   ],
   "source": [
    "fig = plt.figure(figsize=(4,4))\n",
    "ax = fig.subplots(1,1)\n",
    "\n",
    "ax.hist(ingv_bm1_idxs, bins=100);\n",
    "ax.set_title(survey)\n",
    "ax.set_yscale('log')\n",
    "    \n",
    "ax.vlines([], 0, 100, linestyle='dotted', colors='black')\n",
    "    "
   ]
  },
  {
   "cell_type": "code",
   "execution_count": null,
   "id": "7645e7d6-6bd0-4e48-af4b-ec5037dd4c66",
   "metadata": {},
   "outputs": [],
   "source": []
  },
  {
   "cell_type": "code",
   "execution_count": null,
   "id": "4f6689f2-b157-4905-81e1-5c33902778a6",
   "metadata": {},
   "outputs": [],
   "source": []
  },
  {
   "cell_type": "code",
   "execution_count": null,
   "id": "61e23f0c-092b-4807-9098-0dbb50f12d38",
   "metadata": {},
   "outputs": [],
   "source": []
  },
  {
   "cell_type": "code",
   "execution_count": null,
   "id": "2142030b-309e-4e99-a219-f2095db2a0b9",
   "metadata": {},
   "outputs": [],
   "source": []
  }
 ],
 "metadata": {
  "kernelspec": {
   "display_name": "Python 3 (ipykernel)",
   "language": "python",
   "name": "python3"
  },
  "language_info": {
   "codemirror_mode": {
    "name": "ipython",
    "version": 3
   },
   "file_extension": ".py",
   "mimetype": "text/x-python",
   "name": "python",
   "nbconvert_exporter": "python",
   "pygments_lexer": "ipython3",
   "version": "3.9.6"
  }
 },
 "nbformat": 4,
 "nbformat_minor": 5
}
