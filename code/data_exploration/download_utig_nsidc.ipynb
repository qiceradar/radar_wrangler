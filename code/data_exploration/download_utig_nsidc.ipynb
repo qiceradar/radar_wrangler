{
 "cells": [
  {
   "cell_type": "markdown",
   "id": "98623bf8-3cb7-456c-b8d5-7832340695fc",
   "metadata": {},
   "source": [
    "### Download UTIG radargrams from NSIDC\n",
    "\n",
    "* 2009-2010 radargrams from HiCARS1 are here: https://n5eil01u.ecs.nsidc.org/ICEBRIDGE/IR1HI1B.001/\n",
    "* 2010-2013 radargrams from HiCARS2 are here: https://n5eil01u.ecs.nsidc.org/ICEBRIDGE/IR2HI1B.001/"
   ]
  },
  {
   "cell_type": "code",
   "execution_count": 79,
   "id": "13651944-cd12-4b41-912c-00bce9a44d63",
   "metadata": {},
   "outputs": [],
   "source": [
    "from bs4 import BeautifulSoup\n",
    "import netrc  # Used to parse authentication token from ~/.netrc\n",
    "import re\n",
    "import requests"
   ]
  },
  {
   "cell_type": "code",
   "execution_count": 36,
   "id": "d72f1684-67a9-45bd-a987-75a46378cf51",
   "metadata": {},
   "outputs": [],
   "source": [
    "def credentials_from_netrc():\n",
    "    hostname = 'urs.earthdata.nasa.gov'\n",
    "    try:\n",
    "        nn = netrc.netrc()\n",
    "        username, _, token = nn.authenticators(hostname)        \n",
    "        if username != \"token\":\n",
    "            msg = \"This function only supports logging in via authentication tokens.\" \n",
    "            print(msg)\n",
    "            raise Exception(msg)\n",
    "    except FileNotFoundError as ex:\n",
    "        print(\"Can't authenticate -- .netrc file not found\")\n",
    "        raise(ex)\n",
    "        \n",
    "    return token"
   ]
  },
  {
   "cell_type": "code",
   "execution_count": 56,
   "id": "b742cd57-3a58-48a6-9162-7287c751c322",
   "metadata": {},
   "outputs": [],
   "source": [
    "# Annoyingly, requests.get(...) gets a 401 response. \n",
    "# Looks like we need to be logged into NSIDC for this to work / provide a bearer token.\n",
    "\n",
    "hicars1_url = \"https://n5eil01u.ecs.nsidc.org/ICEBRIDGE/IR1HI1B.001/\"\n",
    "hicars2_url = \"https://n5eil01u.ecs.nsidc.org/ICEBRIDGE/IR2HI1B.001/\""
   ]
  },
  {
   "cell_type": "code",
   "execution_count": 69,
   "id": "1d6721ba-de55-4831-a334-ff857e995f2a",
   "metadata": {},
   "outputs": [
    {
     "data": {
      "text/plain": [
       "<Response [200]>"
      ]
     },
     "execution_count": 69,
     "metadata": {},
     "output_type": "execute_result"
    }
   ],
   "source": [
    "# This takes FOREVER. But it does work. Why so long?\n",
    "token = credentials_from_netrc()\n",
    "reqs = requests.get(hicars1_url, headers={'Authorization': 'Bearer {0}'.format(token)})\n",
    "reqs\n"
   ]
  },
  {
   "cell_type": "code",
   "execution_count": 84,
   "id": "826bf2b8-396d-4884-8163-001c03b1c9dc",
   "metadata": {},
   "outputs": [],
   "source": [
    "# Will \"sessions\" help at all?"
   ]
  },
  {
   "cell_type": "code",
   "execution_count": 89,
   "id": "39593a82-f467-4dc7-bfdb-92711ad55c2e",
   "metadata": {},
   "outputs": [],
   "source": [
    "ss = requests.sessions.Session()\n",
    "ss.headers.update({'Authorization': 'Bearer {0}'.format(token)})"
   ]
  },
  {
   "cell_type": "code",
   "execution_count": 91,
   "id": "60ef336d-3fca-4e9e-b40f-2669180eace2",
   "metadata": {},
   "outputs": [],
   "source": [
    "foo = ss.get(hicars1_url)"
   ]
  },
  {
   "cell_type": "code",
   "execution_count": 92,
   "id": "1c6712c6-eaa5-45f8-8002-16237f3ff3a2",
   "metadata": {},
   "outputs": [
    {
     "data": {
      "text/plain": [
       "<Response [200]>"
      ]
     },
     "execution_count": 92,
     "metadata": {},
     "output_type": "execute_result"
    }
   ],
   "source": [
    "foo"
   ]
  },
  {
   "cell_type": "code",
   "execution_count": 111,
   "id": "c1aff1e1-985c-485c-9a2b-7b6601c6de9a",
   "metadata": {},
   "outputs": [],
   "source": []
  },
  {
   "cell_type": "code",
   "execution_count": null,
   "id": "8a085471-3920-477e-9d77-642621a2d08c",
   "metadata": {},
   "outputs": [],
   "source": []
  },
  {
   "cell_type": "code",
   "execution_count": 78,
   "id": "c3e9b1be-2ee7-49cd-b2cc-0b1be5e8337a",
   "metadata": {},
   "outputs": [
    {
     "name": "stdout",
     "output_type": "stream",
     "text": [
      "['2009.01.02/', '2009.01.02/', '2009.01.06/', '2009.01.06/', '2009.01.07/', '2009.01.07/', '2009.01.08/', '2009.01.08/', '2009.01.11/', '2009.01.11/', '2009.01.12/', '2009.01.12/', '2009.01.13/', '2009.01.13/', '2009.01.18/', '2009.01.18/', '2009.01.19/', '2009.01.19/', '2009.01.20/', '2009.01.20/', '2009.01.21/', '2009.01.21/', '2009.01.22/', '2009.01.22/', '2009.01.23/', '2009.01.23/', '2009.01.26/', '2009.01.26/', '2009.01.28/', '2009.01.28/', '2009.01.29/', '2009.01.29/', '2009.01.30/', '2009.01.30/', '2009.01.31/', '2009.01.31/', '2009.02.01/', '2009.02.01/', '2009.11.09/', '2009.11.09/', '2009.11.10/', '2009.11.10/', '2009.11.11/', '2009.11.11/', '2009.11.16/', '2009.11.16/', '2009.11.17/', '2009.11.17/', '2009.11.18/', '2009.11.18/', '2009.11.20/', '2009.11.20/', '2009.11.25/', '2009.11.25/', '2009.11.26/', '2009.11.26/', '2009.11.27/', '2009.11.27/', '2009.12.01/', '2009.12.01/', '2009.12.02/', '2009.12.02/', '2009.12.03/', '2009.12.03/', '2009.12.07/', '2009.12.07/', '2009.12.08/', '2009.12.08/', '2009.12.11/', '2009.12.11/', '2009.12.12/', '2009.12.12/', '2009.12.14/', '2009.12.14/', '2009.12.15/', '2009.12.15/', '2009.12.17/', '2009.12.17/', '2009.12.18/', '2009.12.18/', '2009.12.19/', '2009.12.19/', '2009.12.22/', '2009.12.22/', '2009.12.27/', '2009.12.27/', '2009.12.28/', '2009.12.28/', '2009.12.29/', '2009.12.29/', '2009.12.30/', '2009.12.30/', '2009.12.31/', '2009.12.31/', '2010.01.01/', '2010.01.01/', '2010.01.02/', '2010.01.02/', '2010.01.04/', '2010.01.04/', '2010.01.05/', '2010.01.05/', '2010.01.06/', '2010.01.06/', '2010.01.07/', '2010.01.07/', '2010.01.08/', '2010.01.08/', '2010.01.13/', '2010.01.13/', '2010.01.25/', '2010.01.25/', '2010.01.28/', '2010.01.28/', '2010.01.29/', '2010.01.29/', '2010.02.06/', '2010.02.06/', '2010.02.14/', '2010.02.14/', '2010.02.15/', '2010.02.15/', '2010.11.30/', '2010.11.30/', '2010.12.01/', '2010.12.01/', '2010.12.02/', '2010.12.02/', '2010.12.06/', '2010.12.06/', '2010.12.07/', '2010.12.07/', '2010.12.08/', '2010.12.08/', '2010.12.09/', '2010.12.09/', '2010.12.13/', '2010.12.13/', '2010.12.17/', '2010.12.17/', '2010.12.18/', '2010.12.18/', '2010.12.20/', '2010.12.20/', '2010.12.21/', '2010.12.21/', '2010.12.29/', '2010.12.29/']\n",
      "Listing segments for 2009.01.02/\n",
      "<Response [200]>\n",
      "[]\n"
     ]
    }
   ],
   "source": [
    "soup = BeautifulSoup(reqs.text, 'html.parser')\n",
    "flight_days = [link.get('href') for link in soup.find_all('a') \n",
    "        if re.match(\"[0-9]{4}.[0-9]{2}.[0-9]{2}\", link.get('href')) is not None]\n",
    "print(flight_days)\n",
    "for flight_day in flight_days:\n",
    "    print(\"Listing segments for {}\".format(flight_day))\n",
    "    flight_url = \"{}/{}\".format(hicars1_url, flight_day)\n",
    "    resp = requests.get(flight_url, headers={'Authorization': 'Bearer {0}'.format(token)})\n",
    "    print(resp)\n",
    "    soup = BeautifulSoup(resp.text, 'html.parser')\n",
    "    flight_files = [link.get('href') for link in soup.find_all('a')\n",
    "                    if link.get('href').endswith('nc')]\n",
    "    print(flight_files)\n",
    "    break"
   ]
  },
  {
   "cell_type": "code",
   "execution_count": 81,
   "id": "b4266b93-76b0-4ee3-aef2-9f56725dc4ed",
   "metadata": {},
   "outputs": [],
   "source": [
    "soup = BeautifulSoup(resp.text, 'html.parser')"
   ]
  },
  {
   "cell_type": "code",
   "execution_count": 82,
   "id": "72c146fa-0c0f-4d89-8c47-230bb2c33d8b",
   "metadata": {},
   "outputs": [],
   "source": [
    "flight_files = [link.get('href') for link in soup.find_all('a')\n",
    "                    if link.get('href').endswith('nc')]"
   ]
  },
  {
   "cell_type": "code",
   "execution_count": 83,
   "id": "43f37a7b-5197-4d25-a628-f0329ae88cf5",
   "metadata": {},
   "outputs": [
    {
     "data": {
      "text/plain": [
       "['IR1HI1B_2009002_MCM_JKB1a_BYRD03a_000.nc',\n",
       " 'IR1HI1B_2009002_MCM_JKB1a_BYRD03a_000.nc',\n",
       " 'IR1HI1B_2009002_MCM_JKB1a_BYRD03a_001.nc',\n",
       " 'IR1HI1B_2009002_MCM_JKB1a_BYRD03a_001.nc',\n",
       " 'IR1HI1B_2009002_MCM_JKB1a_BYRD03a_002.nc',\n",
       " 'IR1HI1B_2009002_MCM_JKB1a_BYRD03a_002.nc',\n",
       " 'IR1HI1B_2009002_MCM_JKB1a_BYRD03b_001.nc',\n",
       " 'IR1HI1B_2009002_MCM_JKB1a_BYRD03b_001.nc',\n",
       " 'IR1HI1B_2009002_MCM_JKB1a_BYRD03b_002.nc',\n",
       " 'IR1HI1B_2009002_MCM_JKB1a_BYRD03b_002.nc',\n",
       " 'IR1HI1B_2009002_MCM_JKB1a_DGC02a_000.nc',\n",
       " 'IR1HI1B_2009002_MCM_JKB1a_DGC02a_000.nc',\n",
       " 'IR1HI1B_2009002_MCM_JKB1a_DGC02a_001.nc',\n",
       " 'IR1HI1B_2009002_MCM_JKB1a_DGC02a_001.nc',\n",
       " 'IR1HI1B_2009002_MCM_JKB1a_DGT02a_000.nc',\n",
       " 'IR1HI1B_2009002_MCM_JKB1a_DGT02a_000.nc',\n",
       " 'IR1HI1B_2009002_MCM_JKB1a_DGT02a_001.nc',\n",
       " 'IR1HI1B_2009002_MCM_JKB1a_DGT02a_001.nc',\n",
       " 'IR1HI1B_2009002_MCM_JKB1a_DGT03a_000.nc',\n",
       " 'IR1HI1B_2009002_MCM_JKB1a_DGT03a_000.nc']"
      ]
     },
     "execution_count": 83,
     "metadata": {},
     "output_type": "execute_result"
    }
   ],
   "source": [
    "flight_files"
   ]
  },
  {
   "cell_type": "code",
   "execution_count": null,
   "id": "ee59b937-99fe-4440-8032-24ffb24dd586",
   "metadata": {},
   "outputs": [],
   "source": []
  }
 ],
 "metadata": {
  "kernelspec": {
   "display_name": "Python 3 (ipykernel)",
   "language": "python",
   "name": "python3"
  },
  "language_info": {
   "codemirror_mode": {
    "name": "ipython",
    "version": 3
   },
   "file_extension": ".py",
   "mimetype": "text/x-python",
   "name": "python",
   "nbconvert_exporter": "python",
   "pygments_lexer": "ipython3",
   "version": "3.9.12"
  }
 },
 "nbformat": 4,
 "nbformat_minor": 5
}
