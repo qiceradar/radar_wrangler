{
 "cells": [
  {
   "cell_type": "markdown",
   "id": "53105bdd-3634-4230-834c-d9b2321a2620",
   "metadata": {},
   "source": [
    "### The goal of this notebook is to identify which Bedmap1 points are covered by other datasets\n",
    "\n",
    "(Most of this has been moved into individual provider-specific notebooks)"
   ]
  },
  {
   "cell_type": "code",
   "execution_count": 1,
   "id": "159ac79e-4455-49e1-8eb7-adfa81351c9e",
   "metadata": {},
   "outputs": [],
   "source": [
    "%matplotlib inline\n",
    "import matplotlib \n",
    "import matplotlib.pyplot as plt\n",
    "\n",
    "import importlib\n",
    "import numpy as np\n",
    "import os\n",
    "import pathlib\n",
    "import shapefile as shp  # Requires the pyshp package; I ran `pip install pyshp`\n"
   ]
  },
  {
   "cell_type": "code",
   "execution_count": 2,
   "id": "06418d1f-d223-42c2-bc88-20ea4974ed7a",
   "metadata": {},
   "outputs": [],
   "source": [
    "import detangle_bedmap_utils\n",
    "importlib.reload(detangle_bedmap_utils)\n",
    "from detangle_bedmap_utils import (expand_range, find_closest_bedmap,\n",
    "                                   load_bedmap_ll, load_bedmap_xy, \n",
    "                                   subsample_tracks_uniform, \n",
    "                                  )"
   ]
  },
  {
   "cell_type": "code",
   "execution_count": 3,
   "id": "84ac2196-57a2-4d08-b765-1db59a6c3089",
   "metadata": {},
   "outputs": [],
   "source": [
    "gl_filepath = \"/Users/lindzey/Data/Quantarctica3/Glaciology/ASAID/ASAID_GroundingLine_Simplified.shp\"\n",
    "\n",
    "# If I do it this way, I can plot as points (but not lines!). This is easier than having to iterate through each segment.\n",
    "sf = shp.Reader(gl_filepath)\n",
    "gl_xx = []\n",
    "gl_yy = []\n",
    "for shape in sf.shapeRecords():\n",
    "    x = [i[0] for i in shape.shape.points[:]]\n",
    "    y = [i[1] for i in shape.shape.points[:]]\n",
    "    gl_xx.extend(x)\n",
    "    gl_yy.extend(y)"
   ]
  },
  {
   "cell_type": "code",
   "execution_count": 4,
   "id": "ddfb8148-3c34-47ac-9c16-1f20c0953e22",
   "metadata": {},
   "outputs": [],
   "source": [
    "bm1_path = \"/Users/lindzey/RadarData/ANTARCTIC/BEDMAP/BEDMAP1/BEDMAP1_1966-2000_AIR_BM1.csv\"\n",
    "bm1_lon, bm1_lat = load_bedmap_ll(bm1_path)\n",
    "bm1_xx, bm1_yy = load_bedmap_xy(bm1_path)"
   ]
  },
  {
   "cell_type": "code",
   "execution_count": null,
   "id": "a7b9fbb1-f1cb-4828-b5dc-9bb7c30040b5",
   "metadata": {},
   "outputs": [],
   "source": []
  },
  {
   "cell_type": "code",
   "execution_count": null,
   "id": "58283a98-9f0e-448c-8a09-edd926310f46",
   "metadata": {},
   "outputs": [],
   "source": []
  },
  {
   "cell_type": "code",
   "execution_count": null,
   "id": "d4e9680d-a502-4576-adec-ee085e721a49",
   "metadata": {},
   "outputs": [],
   "source": []
  },
  {
   "cell_type": "markdown",
   "id": "3a9f20ca-0b70-44d0-b372-87802cb135c7",
   "metadata": {},
   "source": [
    "## RNRF\n",
    "\n",
    "From the point distribution, I wonder if these are seismic rather than radar. Both appear in BM1 and BM2:\n",
    "* 1971_Lambert-Amery\n",
    "* 1975_Filchner-Ronne\n",
    "\n",
    "Other than that, I think I need to email Popov about access to underlying data from Fig. 3 of his 2020 paper."
   ]
  },
  {
   "cell_type": "code",
   "execution_count": null,
   "id": "4641596f-d80d-4694-8929-f891b2f07f60",
   "metadata": {},
   "outputs": [],
   "source": []
  },
  {
   "cell_type": "code",
   "execution_count": null,
   "id": "b2a0b302-9243-4bdd-8f65-6790a2e5b747",
   "metadata": {},
   "outputs": [],
   "source": []
  },
  {
   "cell_type": "code",
   "execution_count": null,
   "id": "bfbd98d5-6d5f-4f3d-ae8f-c9734e55f7a1",
   "metadata": {},
   "outputs": [],
   "source": []
  },
  {
   "cell_type": "code",
   "execution_count": null,
   "id": "d226dc5a-8ea6-44dc-8d68-09dafb3afc58",
   "metadata": {},
   "outputs": [],
   "source": []
  },
  {
   "cell_type": "code",
   "execution_count": null,
   "id": "efe565b9-8ba3-408a-9eeb-360a4a3d1f6c",
   "metadata": {},
   "outputs": [],
   "source": []
  },
  {
   "cell_type": "code",
   "execution_count": null,
   "id": "2142030b-309e-4e99-a219-f2095db2a0b9",
   "metadata": {},
   "outputs": [],
   "source": []
  }
 ],
 "metadata": {
  "kernelspec": {
   "display_name": "Python 3 (ipykernel)",
   "language": "python",
   "name": "python3"
  },
  "language_info": {
   "codemirror_mode": {
    "name": "ipython",
    "version": 3
   },
   "file_extension": ".py",
   "mimetype": "text/x-python",
   "name": "python",
   "nbconvert_exporter": "python",
   "pygments_lexer": "ipython3",
   "version": "3.9.6"
  }
 },
 "nbformat": 4,
 "nbformat_minor": 5
}
